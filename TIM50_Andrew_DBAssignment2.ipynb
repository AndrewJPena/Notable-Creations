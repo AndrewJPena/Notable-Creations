{
  "nbformat": 4,
  "nbformat_minor": 0,
  "metadata": {
    "colab": {
      "provenance": []
    },
    "kernelspec": {
      "name": "python3",
      "display_name": "Python 3"
    },
    "language_info": {
      "name": "python"
    }
  },
  "cells": [
    {
      "cell_type": "code",
      "execution_count": null,
      "metadata": {
        "colab": {
          "base_uri": "https://localhost:8080/"
        },
        "id": "jvEFBtk03GYb",
        "outputId": "cec8fae1-17ad-4318-ba38-c298ab11e072"
      },
      "outputs": [
        {
          "output_type": "stream",
          "name": "stdout",
          "text": [
            "Looking in indexes: https://pypi.org/simple, https://us-python.pkg.dev/colab-wheels/public/simple/\n",
            "Requirement already satisfied: ipython-sql in /usr/local/lib/python3.8/dist-packages (0.3.9)\n",
            "Requirement already satisfied: prettytable in /usr/local/lib/python3.8/dist-packages (from ipython-sql) (3.6.0)\n",
            "Requirement already satisfied: ipython>=1.0 in /usr/local/lib/python3.8/dist-packages (from ipython-sql) (7.9.0)\n",
            "Requirement already satisfied: ipython-genutils>=0.1.0 in /usr/local/lib/python3.8/dist-packages (from ipython-sql) (0.2.0)\n",
            "Requirement already satisfied: sqlalchemy>=0.6.7 in /usr/local/lib/python3.8/dist-packages (from ipython-sql) (1.4.46)\n",
            "Requirement already satisfied: six in /usr/local/lib/python3.8/dist-packages (from ipython-sql) (1.15.0)\n",
            "Requirement already satisfied: sqlparse in /usr/local/lib/python3.8/dist-packages (from ipython-sql) (0.4.3)\n",
            "Requirement already satisfied: jedi>=0.10 in /usr/local/lib/python3.8/dist-packages (from ipython>=1.0->ipython-sql) (0.18.2)\n",
            "Requirement already satisfied: setuptools>=18.5 in /usr/local/lib/python3.8/dist-packages (from ipython>=1.0->ipython-sql) (57.4.0)\n",
            "Requirement already satisfied: prompt-toolkit<2.1.0,>=2.0.0 in /usr/local/lib/python3.8/dist-packages (from ipython>=1.0->ipython-sql) (2.0.10)\n",
            "Requirement already satisfied: traitlets>=4.2 in /usr/local/lib/python3.8/dist-packages (from ipython>=1.0->ipython-sql) (5.7.1)\n",
            "Requirement already satisfied: pexpect in /usr/local/lib/python3.8/dist-packages (from ipython>=1.0->ipython-sql) (4.8.0)\n",
            "Requirement already satisfied: backcall in /usr/local/lib/python3.8/dist-packages (from ipython>=1.0->ipython-sql) (0.2.0)\n",
            "Requirement already satisfied: pygments in /usr/local/lib/python3.8/dist-packages (from ipython>=1.0->ipython-sql) (2.6.1)\n",
            "Requirement already satisfied: decorator in /usr/local/lib/python3.8/dist-packages (from ipython>=1.0->ipython-sql) (4.4.2)\n",
            "Requirement already satisfied: pickleshare in /usr/local/lib/python3.8/dist-packages (from ipython>=1.0->ipython-sql) (0.7.5)\n",
            "Requirement already satisfied: greenlet!=0.4.17 in /usr/local/lib/python3.8/dist-packages (from sqlalchemy>=0.6.7->ipython-sql) (2.0.2)\n",
            "Requirement already satisfied: wcwidth in /usr/local/lib/python3.8/dist-packages (from prettytable->ipython-sql) (0.2.6)\n",
            "Requirement already satisfied: parso<0.9.0,>=0.8.0 in /usr/local/lib/python3.8/dist-packages (from jedi>=0.10->ipython>=1.0->ipython-sql) (0.8.3)\n",
            "Requirement already satisfied: ptyprocess>=0.5 in /usr/local/lib/python3.8/dist-packages (from pexpect->ipython>=1.0->ipython-sql) (0.7.0)\n"
          ]
        }
      ],
      "source": [
        "!pip install ipython-sql"
      ]
    },
    {
      "cell_type": "code",
      "source": [
        "import sqlalchemy"
      ],
      "metadata": {
        "id": "zObS3LLX3PZW"
      },
      "execution_count": null,
      "outputs": []
    },
    {
      "cell_type": "code",
      "source": [
        "engine = sqlalchemy.create_engine('sqlite:///my.db')"
      ],
      "metadata": {
        "id": "MKDZsabh3U5i"
      },
      "execution_count": null,
      "outputs": []
    },
    {
      "cell_type": "code",
      "source": [
        "con = engine.raw_connection()"
      ],
      "metadata": {
        "id": "bvjFgdBX3YfN"
      },
      "execution_count": null,
      "outputs": []
    },
    {
      "cell_type": "code",
      "source": [
        "cursor = con.cursor()"
      ],
      "metadata": {
        "id": "YKNyc0xQ3h1n"
      },
      "execution_count": null,
      "outputs": []
    },
    {
      "cell_type": "code",
      "source": [
        "import pandas as pd"
      ],
      "metadata": {
        "id": "PKjERau0_6wr"
      },
      "execution_count": null,
      "outputs": []
    },
    {
      "cell_type": "code",
      "source": [
        "data = pd.read_csv('flights-2.csv')"
      ],
      "metadata": {
        "id": "HFm5ZCxGeOkJ"
      },
      "execution_count": null,
      "outputs": []
    },
    {
      "cell_type": "code",
      "source": [
        "data.to_sql('flights', con, if_exists='append', index=False)"
      ],
      "metadata": {
        "id": "UmZYszCYefe6"
      },
      "execution_count": null,
      "outputs": []
    },
    {
      "cell_type": "code",
      "source": [
        "for row in cursor.execute(\"SELECT * FROM flights LIMIT 5;\"): print(row)"
      ],
      "metadata": {
        "colab": {
          "base_uri": "https://localhost:8080/"
        },
        "id": "Feyqg4rUe8nP",
        "outputId": "88d6e01c-86af-4a6a-cc34-eafe18e29452"
      },
      "execution_count": null,
      "outputs": [
        {
          "output_type": "stream",
          "name": "stdout",
          "text": [
            "('12:10', 'MUC', '19:38', 'SFO', 'UA 907 ', '763', '1', 16, 28.0, 16.47, None)\n",
            "('10:35', 'TPE', '8:06', 'SFO', 'UA 830 ', '777', '1', 13, 31.0, 13.52, None)\n",
            "('15:15', 'SYD', '9:38', 'SFO', 'UA 870 ', '744', 'Non-Stop', 13, 23.0, 13.38, None)\n",
            "('20:00', 'AKL', '11:15', 'SFO', 'NZ 008 ', '772', 'Non-Stop', 12, 15.0, 12.25, None)\n",
            "('15:50', 'MUC', '19:00', 'SFO', 'LH 458 ', '346', 'Non-Stop', 12, 10.0, 12.17, None)\n"
          ]
        }
      ]
    },
    {
      "cell_type": "code",
      "source": [
        "data = pd.read_csv('aircrafts.csv')"
      ],
      "metadata": {
        "id": "OUvD1ExlfSDV"
      },
      "execution_count": null,
      "outputs": []
    },
    {
      "cell_type": "code",
      "source": [
        "data.to_sql('aircrafts', con, if_exists='append', index=False)"
      ],
      "metadata": {
        "id": "GuXvJsWafYy6"
      },
      "execution_count": null,
      "outputs": []
    },
    {
      "cell_type": "code",
      "source": [
        "for row in cursor.execute(\"SELECT * FROM aircrafts LIMIT 5;\"): print(row)"
      ],
      "metadata": {
        "colab": {
          "base_uri": "https://localhost:8080/"
        },
        "id": "1ODG5_tZfhL9",
        "outputId": "4cd03c9e-bd30-4b45-8910-fdb286ca8513"
      },
      "execution_count": null,
      "outputs": [
        {
          "output_type": "stream",
          "name": "stdout",
          "text": [
            "('737', 124)\n",
            "('733', 124)\n",
            "('319', 124)\n",
            "('73G', 124)\n",
            "('735', 104)\n"
          ]
        }
      ]
    },
    {
      "cell_type": "code",
      "source": [
        "for row in cursor.execute(\"PRAGMA table_info('flights');\"): print(row)"
      ],
      "metadata": {
        "colab": {
          "base_uri": "https://localhost:8080/"
        },
        "id": "t6Iqd4ecfx9A",
        "outputId": "95a240e0-60a0-42f0-9941-f30902b6a064"
      },
      "execution_count": null,
      "outputs": [
        {
          "output_type": "stream",
          "name": "stdout",
          "text": [
            "(0, 'Depart_Time', 'TEXT', 0, None, 0)\n",
            "(1, 'Origin', 'TEXT', 0, None, 0)\n",
            "(2, 'Arrival_Time', 'TEXT', 0, None, 0)\n",
            "(3, 'Destination', 'TEXT', 0, None, 0)\n",
            "(4, 'Flight', 'TEXT', 0, None, 0)\n",
            "(5, 'Aircraft', 'TEXT', 0, None, 0)\n",
            "(6, 'Stops', 'TEXT', 0, None, 0)\n",
            "(7, 'hours', 'INTEGER', 0, None, 0)\n",
            "(8, 'minutes', 'REAL', 0, None, 0)\n",
            "(9, 'duration', 'REAL', 0, None, 0)\n",
            "(10, 'codeshare', 'REAL', 0, None, 0)\n"
          ]
        }
      ]
    },
    {
      "cell_type": "code",
      "source": [
        "for row in cursor.execute(\"PRAGMA table_info('aircrafts');\"): print(row)"
      ],
      "metadata": {
        "colab": {
          "base_uri": "https://localhost:8080/"
        },
        "id": "6HumO0I2gVVq",
        "outputId": "31591c2f-a8e4-42f3-a09e-c96c22e9f5c3"
      },
      "execution_count": null,
      "outputs": [
        {
          "output_type": "stream",
          "name": "stdout",
          "text": [
            "(0, 'Aircraft', 'TEXT', 0, None, 0)\n",
            "(1, 'Seats', 'INTEGER', 0, None, 0)\n"
          ]
        }
      ]
    },
    {
      "cell_type": "code",
      "source": [
        "for row in cursor.execute(\"SELECT COUNT(*) FROM aircrafts\"): print(row)"
      ],
      "metadata": {
        "colab": {
          "base_uri": "https://localhost:8080/"
        },
        "id": "2c-7M4KYglKn",
        "outputId": "edb134ec-6586-4c54-c157-c5ee3e64cb71"
      },
      "execution_count": null,
      "outputs": [
        {
          "output_type": "stream",
          "name": "stdout",
          "text": [
            "(34,)\n"
          ]
        }
      ]
    },
    {
      "cell_type": "code",
      "source": [
        "for row in cursor.execute(\"SELECT COUNT(*) FROM flights\"): print(row)"
      ],
      "metadata": {
        "colab": {
          "base_uri": "https://localhost:8080/"
        },
        "id": "a_epGLeViEOw",
        "outputId": "c799e28c-2ae9-4351-dd28-beb41b9251eb"
      },
      "execution_count": null,
      "outputs": [
        {
          "output_type": "stream",
          "name": "stdout",
          "text": [
            "(893,)\n"
          ]
        }
      ]
    },
    {
      "cell_type": "code",
      "source": [
        "for row in cursor.execute(\"SELECT COUNT(DISTINCT Aircraft) FROM aircrafts\"): print(row)"
      ],
      "metadata": {
        "colab": {
          "base_uri": "https://localhost:8080/"
        },
        "id": "8IS1zIoTiMh4",
        "outputId": "b9388c9d-1e99-40f7-d75e-6fbe0897875a"
      },
      "execution_count": null,
      "outputs": [
        {
          "output_type": "stream",
          "name": "stdout",
          "text": [
            "(34,)\n"
          ]
        }
      ]
    },
    {
      "cell_type": "code",
      "source": [
        "for row in cursor.execute(\"SELECT COUNT(DISTINCT Seats) FROM aircrafts\"): print(row)"
      ],
      "metadata": {
        "colab": {
          "base_uri": "https://localhost:8080/"
        },
        "id": "4bp1n2LOjkUU",
        "outputId": "59eb8e55-abf2-41b4-89fb-ffd3f4c16f0a"
      },
      "execution_count": null,
      "outputs": [
        {
          "output_type": "stream",
          "name": "stdout",
          "text": [
            "(16,)\n"
          ]
        }
      ]
    },
    {
      "cell_type": "code",
      "source": [
        "for row in cursor.execute(\"SELECT COUNT(DISTINCT Depart_Time) FROM flights\"): print(row)"
      ],
      "metadata": {
        "colab": {
          "base_uri": "https://localhost:8080/"
        },
        "id": "QxbgnNKkjwNV",
        "outputId": "c70f8da6-eb86-4d06-84f6-954d39c4cba4"
      },
      "execution_count": null,
      "outputs": [
        {
          "output_type": "stream",
          "name": "stdout",
          "text": [
            "(286,)\n"
          ]
        }
      ]
    },
    {
      "cell_type": "code",
      "source": [
        "for row in cursor.execute(\"SELECT COUNT(DISTINCT Origin) FROM flights\"): print(row)"
      ],
      "metadata": {
        "colab": {
          "base_uri": "https://localhost:8080/"
        },
        "id": "vjNvEeZNkEjo",
        "outputId": "db11cf8e-ab89-4085-8ec7-3f5d04bff17b"
      },
      "execution_count": null,
      "outputs": [
        {
          "output_type": "stream",
          "name": "stdout",
          "text": [
            "(71,)\n"
          ]
        }
      ]
    },
    {
      "cell_type": "code",
      "source": [
        "for row in cursor.execute(\"SELECT COUNT(DISTINCT Arrival_Time) FROM flights\"): print(row)"
      ],
      "metadata": {
        "colab": {
          "base_uri": "https://localhost:8080/"
        },
        "id": "uydD7wV1kISz",
        "outputId": "7f25efcb-2f90-4317-cb12-7c5d3ee6cf47"
      },
      "execution_count": null,
      "outputs": [
        {
          "output_type": "stream",
          "name": "stdout",
          "text": [
            "(302,)\n"
          ]
        }
      ]
    },
    {
      "cell_type": "code",
      "source": [
        "for row in cursor.execute(\"SELECT COUNT(DISTINCT Destination) FROM flights\"): print(row)"
      ],
      "metadata": {
        "colab": {
          "base_uri": "https://localhost:8080/"
        },
        "id": "aQhRojyokIPw",
        "outputId": "11cd6976-4fad-40f1-8b65-b8a3d0d58b98"
      },
      "execution_count": null,
      "outputs": [
        {
          "output_type": "stream",
          "name": "stdout",
          "text": [
            "(1,)\n"
          ]
        }
      ]
    },
    {
      "cell_type": "code",
      "source": [
        "for row in cursor.execute(\"SELECT COUNT(DISTINCT Flight) FROM flights\"): print(row)"
      ],
      "metadata": {
        "colab": {
          "base_uri": "https://localhost:8080/"
        },
        "id": "6byigai2kIMq",
        "outputId": "02d93693-58fd-40c8-bb51-c2db0e7d7236"
      },
      "execution_count": null,
      "outputs": [
        {
          "output_type": "stream",
          "name": "stdout",
          "text": [
            "(869,)\n"
          ]
        }
      ]
    },
    {
      "cell_type": "code",
      "source": [
        "for row in cursor.execute(\"SELECT COUNT(DISTINCT Aircraft) FROM flights\"): print(row)"
      ],
      "metadata": {
        "colab": {
          "base_uri": "https://localhost:8080/"
        },
        "id": "ma_zo24DkIKA",
        "outputId": "a698bf7b-c399-4c13-def5-75a1fe37e4ed"
      },
      "execution_count": null,
      "outputs": [
        {
          "output_type": "stream",
          "name": "stdout",
          "text": [
            "(32,)\n"
          ]
        }
      ]
    },
    {
      "cell_type": "code",
      "source": [
        "for row in cursor.execute(\"SELECT COUNT(DISTINCT Stops) FROM flights\"): print(row)"
      ],
      "metadata": {
        "colab": {
          "base_uri": "https://localhost:8080/"
        },
        "id": "w81oV-tekIEB",
        "outputId": "82a8ca43-d89e-45cf-c32a-d3884fd039da"
      },
      "execution_count": null,
      "outputs": [
        {
          "output_type": "stream",
          "name": "stdout",
          "text": [
            "(2,)\n"
          ]
        }
      ]
    },
    {
      "cell_type": "code",
      "source": [
        "for row in cursor.execute(\"SELECT COUNT(DISTINCT hours) FROM flights\"): print(row)"
      ],
      "metadata": {
        "colab": {
          "base_uri": "https://localhost:8080/"
        },
        "id": "VG3mB7tAkH5Y",
        "outputId": "4ba4fdf8-873c-4e8c-868c-51f26a2fc312"
      },
      "execution_count": null,
      "outputs": [
        {
          "output_type": "stream",
          "name": "stdout",
          "text": [
            "(15,)\n"
          ]
        }
      ]
    },
    {
      "cell_type": "code",
      "source": [
        "for row in cursor.execute(\"SELECT COUNT(DISTINCT minutes) FROM flights\"): print(row)"
      ],
      "metadata": {
        "colab": {
          "base_uri": "https://localhost:8080/"
        },
        "id": "b82u-tYZkHm4",
        "outputId": "e825360f-f8af-42fc-9402-07f133454d13"
      },
      "execution_count": null,
      "outputs": [
        {
          "output_type": "stream",
          "name": "stdout",
          "text": [
            "(56,)\n"
          ]
        }
      ]
    },
    {
      "cell_type": "code",
      "source": [
        "for row in cursor.execute(\"SELECT COUNT(DISTINCT duration) FROM flights\"): print(row)"
      ],
      "metadata": {
        "colab": {
          "base_uri": "https://localhost:8080/"
        },
        "id": "ME1CL3ZVkN6a",
        "outputId": "9bde9c57-4cb1-4d21-d858-8e924c4f274e"
      },
      "execution_count": null,
      "outputs": [
        {
          "output_type": "stream",
          "name": "stdout",
          "text": [
            "(186,)\n"
          ]
        }
      ]
    },
    {
      "cell_type": "code",
      "source": [
        "for row in cursor.execute(\"SELECT COUNT(DISTINCT codeshare) FROM flights\"): print(row)"
      ],
      "metadata": {
        "colab": {
          "base_uri": "https://localhost:8080/"
        },
        "id": "HOt9ti6pkOh2",
        "outputId": "c240094d-62b4-497e-fc68-39a4b69298c7"
      },
      "execution_count": null,
      "outputs": [
        {
          "output_type": "stream",
          "name": "stdout",
          "text": [
            "(1,)\n"
          ]
        }
      ]
    },
    {
      "cell_type": "code",
      "source": [
        "# Write a query to compute the number of passengers flying non-stop from DEN to SFO."
      ],
      "metadata": {
        "id": "TOPvJmNOlPyg"
      },
      "execution_count": null,
      "outputs": []
    },
    {
      "cell_type": "code",
      "source": [
        "# SUM "
      ],
      "metadata": {
        "id": "qe7TA_2Dlwk2"
      },
      "execution_count": null,
      "outputs": []
    },
    {
      "cell_type": "code",
      "source": [
        "# Step 1: Combine data and both tables Step 2:add filter where origin is denver step 3: find SUM of the seats using flight numbers"
      ],
      "metadata": {
        "id": "g0dnWHnBmyYd"
      },
      "execution_count": null,
      "outputs": []
    },
    {
      "cell_type": "code",
      "source": [
        "for row in cursor.execute(\"SELECT SUM(seats) FROM flights INNER JOIN aircrafts ON flights.Aircraft = aircrafts.Aircraft WHERE flights.Stops = 'Non-Stop' AND flights.Origin = 'DEN' AND flights.Destination ='SFO';\"): print(row)\n"
      ],
      "metadata": {
        "colab": {
          "base_uri": "https://localhost:8080/"
        },
        "id": "Xu1byxl9nDot",
        "outputId": "f20cc007-4025-47a4-d258-a4d49b55ab0e"
      },
      "execution_count": 52,
      "outputs": [
        {
          "output_type": "stream",
          "name": "stdout",
          "text": [
            "(6292,)\n"
          ]
        }
      ]
    },
    {
      "cell_type": "markdown",
      "source": [
        "# Write a query to find the maximum number of passengers arriving in SFO (SINGLE FLIGHT) on Airplane Models starting with ‘7’  from DEN or SAN"
      ],
      "metadata": {
        "id": "NygAYQGEsGp4"
      }
    },
    {
      "cell_type": "code",
      "source": [
        "for row in cursor.execute(\"SELECT MAX(seats) FROM flights INNER JOIN aircrafts ON flights.Aircraft = aircrafts.Aircraft WHERE flights.Stops = 'Non-Stop' AND flights.aircraft = '%7%' AND flights.Origin = 'DEN' OR flights.Origin = 'SAN' AND flights.Destination ='SFO';\"): print(row)\n"
      ],
      "metadata": {
        "colab": {
          "base_uri": "https://localhost:8080/"
        },
        "id": "KmigZfnUrbBg",
        "outputId": "ab0dfc27-2b31-4a75-c176-863fdd0c409c"
      },
      "execution_count": 53,
      "outputs": [
        {
          "output_type": "stream",
          "name": "stdout",
          "text": [
            "(182,)\n"
          ]
        }
      ]
    }
  ]
}